{
 "cells": [
  {
   "cell_type": "code",
   "execution_count": null,
   "metadata": {},
   "outputs": [],
   "source": [
    "import pandas as pd\n",
    "import matplotlib.pyplot as plt\n",
    "\n",
    "# Load the datasets,\n",
    "baseline_df = pd.read_csv('baseline_2d.csv', sep='\\s+')\n",
    "\n",
    "# The improve_1 CSV has no header and is tab-separated.,\n",
    "improve1_df = pd.read_csv('improve_1_2d.csv', sep='\\t', header=None)\n",
    "improve1_df.columns = ['epoch', 'time', 'train_loss', 'train_l2', 'test_l2']\n",
    "\n",
    "\n",
    "# The improve_2 CSV has no header and is tab-separated.,\n",
    "improve2_df = pd.read_csv('improve_2_2d.csv', sep='\\t', header=None)\n",
    "improve2_df.columns = ['epoch', 'time', 'train_loss', 'train_l2', 'test_l2']\n",
    "\n",
    "\n",
    "# Create the plot,\n",
    "plt.figure(figsize=(10, 6))\n",
    "\n",
    "plt.plot(baseline_df['epoch'], baseline_df['test_l2'], label='Baseline')\n",
    "plt.plot(improve1_df['epoch'], improve1_df['test_l2'], label='Improve 1')\n",
    "plt.plot(improve2_df['epoch'], improve2_df['test_l2'], label='Improve 2')\n",
    "\n",
    "# Add labels and title,\n",
    "plt.xlabel('Epoch')\n",
    "plt.ylabel('Test L2')\n",
    "plt.title('Test L2 Comparison')\n",
    "plt.legend()\n",
    "plt.grid(True)\n",
    "\n",
    "# Save the plot,\n",
    "plt.savefig('test_l2_comparison.png')\n",
    "\n",
    "print(\"Plot saved as test_l2_comparison.png\")"
   ]
  },
  {
   "cell_type": "markdown",
   "metadata": {},
   "source": []
  }
 ],
 "metadata": {
  "kernelspec": {
   "display_name": "ece285",
   "language": "python",
   "name": "python3"
  },
  "language_info": {
   "name": "python",
   "version": "3.10.14"
  }
 },
 "nbformat": 4,
 "nbformat_minor": 2
}
